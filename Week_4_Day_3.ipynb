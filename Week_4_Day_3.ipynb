{
  "cells": [
    {
      "cell_type": "markdown",
      "metadata": {
        "id": "view-in-github",
        "colab_type": "text"
      },
      "source": [
        "<a href=\"https://colab.research.google.com/github/RAHGEB/Github.Portifolio/blob/main/Week_4_Day_3.ipynb\" target=\"_parent\"><img src=\"https://colab.research.google.com/assets/colab-badge.svg\" alt=\"Open In Colab\"/></a>"
      ]
    },
    {
      "cell_type": "markdown",
      "id": "377cb5ac",
      "metadata": {
        "id": "377cb5ac"
      },
      "source": [
        "\n",
        "# 🛡️ **Week 4, Day 3: Python for Cybersecurity**\n",
        "\n",
        "In this lesson, we will explore how Python can be used for cybersecurity use cases.\n",
        "\n",
        "Python’s data analysis libraries (like Pandas) and its ability to interact with APIs make it a helpful tool for cybersecurity tasks such as detecting phishing attempts, and analyzing malicious activity."
      ]
    },
    {
      "cell_type": "markdown",
      "id": "fc571b48",
      "metadata": {
        "id": "fc571b48"
      },
      "source": [
        "## 🔍 What is PhishTank?\n",
        "\n",
        "[PhishTank](https://phishtank.org/) is a clearinghouse for data and information about phishing. It allows anyone to submit, verify, track, and access phishing data. The data includes details about phishing URLs, verification status, and the target brand being impersonated.\n",
        "\n",
        "PhishTank provides a rich dataset of phishing attempts that have been verified by a community of users. It is a great source of real-world data for practicing cybersecurity analysis and understanding common phishing trends.\n",
        "\n",
        "**Column Definitions**\n",
        "\n",
        "[PhishTank Developer Info](https://phishtank.org/developer_info)\n",
        "1. `phish_id`: The unique ID number for each phishing attempt.\n",
        "2. `phish_detail_url`: A URL with details about the phishing attempt.\n",
        "3. `url`: The actual phishing URL.\n",
        "4. `submission_time`: The date and time the phishing attempt was reported.\n",
        "5. `verified`: Indicates if the phishing attempt was verified (always 'yes' in this dataset).\n",
        "6. `verification_time`: The date and time the phishing attempt was verified.\n",
        "7. `online`: Indicates if the phishing attempt is still online.\n",
        "8. `target`: The name of the company or brand being impersonated.\n"
      ]
    },
    {
      "cell_type": "markdown",
      "id": "caea09dd",
      "metadata": {
        "id": "caea09dd"
      },
      "source": [
        "\n",
        "## 🧠 Lesson 1: Thinking Like an Analyst\n",
        "\n",
        "In cybersecurity, analysts often have to explore the data on their own and ask questions about what insights can be gained. Rarely are they given a detailed list of tasks. Instead, they need to look at the data and think critically about potential analyses.\n",
        "\n",
        "Review the data from the API endpoint to determine analysis use cases."
      ]
    },
    {
      "cell_type": "code",
      "execution_count": null,
      "id": "eebfc36d",
      "metadata": {
        "id": "eebfc36d"
      },
      "outputs": [],
      "source": [
        "import requests\n",
        "import pandas as pd\n",
        "from pprint import pprint\n",
        "\n",
        "# Fetch phishing data from PhishTank\n",
        "phishtank_data_url = 'http://data.phishtank.com/data/online-valid.json'\n",
        "response = requests.get(phishtank_data_url)\n",
        "\n",
        "if(response.status_code == 200):\n",
        "  response_json = response.json()\n",
        "  print(f'API call successful: {response.status_code}')\n",
        "else:\n",
        "  print(f'Error with the PhishTank API: {response.status_code}')\n"
      ]
    },
    {
      "cell_type": "code",
      "source": [
        "# # ALTERNATE METHOD for downloading Phishing data\n",
        "# # If the API call above is not successful\n",
        "\n",
        "# import gdown\n",
        "# import json\n",
        "\n",
        "# # Google Drive file ID\n",
        "# file_id = \"1-gpQvp3iOAgZoflrr8BHKMXIe5Ys6yH6\"\n",
        "\n",
        "# # Download the file using gdown\n",
        "# url = f\"https://drive.google.com/uc?id={file_id}\"\n",
        "# response_json_file = \"phishing_data.json\"\n",
        "# gdown.download(url, response_json_file, quiet=False)\n",
        "\n",
        "# # Load the JSON contents into response_json\n",
        "# with open(response_json_file, 'r') as file:\n",
        "#     response_json = json.load(file)"
      ],
      "metadata": {
        "id": "6H884ASE-RBx"
      },
      "id": "6H884ASE-RBx",
      "execution_count": 7,
      "outputs": []
    },
    {
      "cell_type": "code",
      "source": [
        "# Print the response data type\n",
        "print(type(response_json))\n",
        "\n",
        "# Preview the # of responses\n",
        "print(len(response_json))\n",
        "\n",
        "# Preview the response (two records)\n",
        "response_json[:2]"
      ],
      "metadata": {
        "id": "wbVXrbzd95Eg",
        "outputId": "64e101ae-e4de-4e06-defd-71f877765027",
        "colab": {
          "base_uri": "https://localhost:8080/",
          "height": 219
        }
      },
      "id": "wbVXrbzd95Eg",
      "execution_count": 6,
      "outputs": [
        {
          "output_type": "error",
          "ename": "NameError",
          "evalue": "name 'response_json' is not defined",
          "traceback": [
            "\u001b[0;31m---------------------------------------------------------------------------\u001b[0m",
            "\u001b[0;31mNameError\u001b[0m                                 Traceback (most recent call last)",
            "\u001b[0;32m<ipython-input-6-3a07c0dc262f>\u001b[0m in \u001b[0;36m<cell line: 2>\u001b[0;34m()\u001b[0m\n\u001b[1;32m      1\u001b[0m \u001b[0;31m# Print the response data type\u001b[0m\u001b[0;34m\u001b[0m\u001b[0;34m\u001b[0m\u001b[0m\n\u001b[0;32m----> 2\u001b[0;31m \u001b[0mprint\u001b[0m\u001b[0;34m(\u001b[0m\u001b[0mtype\u001b[0m\u001b[0;34m(\u001b[0m\u001b[0mresponse_json\u001b[0m\u001b[0;34m)\u001b[0m\u001b[0;34m)\u001b[0m\u001b[0;34m\u001b[0m\u001b[0;34m\u001b[0m\u001b[0m\n\u001b[0m\u001b[1;32m      3\u001b[0m \u001b[0;34m\u001b[0m\u001b[0m\n\u001b[1;32m      4\u001b[0m \u001b[0;31m# Preview the # of responses\u001b[0m\u001b[0;34m\u001b[0m\u001b[0;34m\u001b[0m\u001b[0m\n\u001b[1;32m      5\u001b[0m \u001b[0mprint\u001b[0m\u001b[0;34m(\u001b[0m\u001b[0mlen\u001b[0m\u001b[0;34m(\u001b[0m\u001b[0mresponse_json\u001b[0m\u001b[0;34m)\u001b[0m\u001b[0;34m)\u001b[0m\u001b[0;34m\u001b[0m\u001b[0;34m\u001b[0m\u001b[0m\n",
            "\u001b[0;31mNameError\u001b[0m: name 'response_json' is not defined"
          ]
        }
      ]
    },
    {
      "cell_type": "code",
      "source": [
        "# Convert this JSON into a DataFrame\n",
        "phishing_df = pd.DataFrame(response_json)\n",
        "\n",
        "# Display the DataFrame\n",
        "display(phishing_df.head())\n",
        "\n",
        "# Get a summary of the dataset\n",
        "phishing_df.info()\n",
        "print(len(phishing_df))"
      ],
      "metadata": {
        "id": "6154yPKvwY7w"
      },
      "id": "6154yPKvwY7w",
      "execution_count": null,
      "outputs": []
    },
    {
      "cell_type": "markdown",
      "id": "61eaf8de",
      "metadata": {
        "id": "61eaf8de"
      },
      "source": [
        "\n",
        "## 📝 Practice exercise 1: Top Targeted Brands\n",
        "\n",
        "One of the key questions we can answer is: **Which brands are most frequently targeted by phishing attacks?**\n",
        "\n",
        "Using your `phishing_df` DataFrame, find the top 20 targets for phishing attacks. Filter out \"other\". In your data set.\n"
      ]
    },
    {
      "cell_type": "code",
      "execution_count": null,
      "id": "f900cb01",
      "metadata": {
        "id": "f900cb01"
      },
      "outputs": [],
      "source": [
        "# Filter out \"Other\" from the 'target' column\n",
        "# YOUR CODE HERE\n",
        "\n",
        "# Get the top 20 most targeted brands\n",
        "# YOUR CODE HERE\n",
        "\n",
        "# Display the results\n",
        "# YOUR CODE HERE"
      ]
    },
    {
      "cell_type": "markdown",
      "id": "85fb74d7",
      "metadata": {
        "id": "85fb74d7"
      },
      "source": [
        "\n",
        "## 📝 Practice exercise 2: Trend of Phishing Activity Over Time\n",
        "\n",
        "Another important analysis involves examining the trend of phishing attempts over time. This can help us identify spikes in phishing activity.\n",
        "\n",
        "Work with \"Kisha\" to create a horizontal bar chart that illustrates phishing trends by week over the past 90 days."
      ]
    },
    {
      "cell_type": "code",
      "execution_count": null,
      "id": "f69fb808",
      "metadata": {
        "id": "f69fb808"
      },
      "outputs": [],
      "source": [
        "# YOUR CODE HERE\n",
        "# Work with \"Kisha\" on this"
      ]
    },
    {
      "cell_type": "markdown",
      "id": "14c2ffcc",
      "metadata": {
        "id": "14c2ffcc"
      },
      "source": [
        "\n",
        "## 📝 Practice exercise 3: Average Time to Verify Phishing Attempts\n",
        "\n",
        "Analyzing the time taken to verify phishing attempts can provide insights into how quickly these threats are identified and addressed.\n",
        "\n",
        "Work with Kisha to calculate the average time (in hours) between the submission of a phishing attempt and its verification."
      ]
    },
    {
      "cell_type": "code",
      "execution_count": null,
      "id": "7accdeb8",
      "metadata": {
        "id": "7accdeb8"
      },
      "outputs": [],
      "source": [
        "# YOUR CODE HERE\n",
        "# Work with \"Kisha\" on this"
      ]
    },
    {
      "cell_type": "markdown",
      "source": [
        "## 📄 Generating Web Content with Kisha\n",
        "\n",
        "We'll use this prompt to generate a data table and horizontal bar chart as an example.\n",
        "\n",
        "First, create a filtered version of the DataFrame.\n",
        "\n",
        "```\n",
        "# Filter out records where 'target' is 'Other' (only for testing)\n",
        "phish_report_df = phishing_df[phishing_df['target'] != 'Other']\n",
        "\n",
        "# Limit the DataFrame to the first 2000 rows (only for testing)\n",
        "phish_report_df = phish_report_df[:2000]\n",
        "\n",
        "# Display the filtered DataFrame\n",
        "phish_report_df.head()\n",
        "```\n",
        "\n",
        "Then Prompt the AI to create a web page using this data.\n",
        "```\n",
        "Generate a full, interactive single web page from the phish_report_df DataFrame using Bootstrap for the UI.\n",
        "\n",
        "The web page should meet the following requirements:\n",
        "1. Data Source: Use the contents of phish_report_df as the data source.\n",
        "2. Paginated Table: Use DataTables from DataTables.net to display phish_report_df in a paginated, searchable, and sortable table.\n",
        "3. Embed data in the web page: Ensure data is embedded in the file and not expected to come from an endpoint.\n",
        "4. Interactive Bar Chart: Use Plotly for a horizontal bar chart that shows the count of records grouped by phish_report_df['target'].\n",
        "5. Elegant UI: Use Bootstrap for styling to create a polished and responsive design.\n",
        "6. Download Option: Save the generated HTML file in Colab and include code to allow downloading it directly to my computer.\n",
        "```"
      ],
      "metadata": {
        "id": "s286z-modfn6"
      },
      "id": "s286z-modfn6"
    },
    {
      "cell_type": "code",
      "source": [
        "# Filter the DataFrame\n",
        "# YOUR CODE HERE (see above)\n"
      ],
      "metadata": {
        "id": "F60xvLfOeuli"
      },
      "id": "F60xvLfOeuli",
      "execution_count": null,
      "outputs": []
    },
    {
      "cell_type": "markdown",
      "source": [
        "Use the cell below for your prompt."
      ],
      "metadata": {
        "id": "gslmz5HLezn0"
      },
      "id": "gslmz5HLezn0"
    },
    {
      "cell_type": "markdown",
      "source": [
        "# 🔐 Pwned Password Checker: Enhancing Password Security\n",
        "\n",
        "### 🕵️‍♂️ **What Does \"Pwned\" Mean?**\n",
        "**\"Pwned\"** (pronounced like \"owned\") is a slang term used in gaming and cybersecurity. It means that someone or something has been **defeated, compromised, or taken control of**. The term comes from a common typing error of the word \"owned.\" In cybersecurity, if your account or password is **\"pwned,\"** it means it has been exposed in a data breach.\n",
        "\n",
        "### 🛡️ **Overview of the Exercise**\n",
        "In this activity, we'll use the **Have I Been Pwned (HIBP)** API to check if passwords have been compromised. You’ll learn how to use API requests and understand the importance of secure passwords. This exercise will help you identify weak or compromised passwords and improve your cybersecurity awareness.\n",
        "\n",
        "- **Have I Been Pwned (HIBP)**: [HIBP Website](https://haveibeenpwned.com/API/v3)\n",
        "- **Get an API Key** (optional, this costs money): [Get API Key](https://haveibeenpwned.com/API/Key)"
      ],
      "metadata": {
        "id": "Jk74Z-qu5YxY"
      },
      "id": "Jk74Z-qu5YxY"
    },
    {
      "cell_type": "markdown",
      "source": [
        "### 📚 **Introduction to Hashing**\n",
        "\n",
        "1. **What Is a Hash?**\n",
        "   - A **hash** is a unique code generated from a piece of information (like a password). It looks like a random string of letters and numbers. Hashing is used to store passwords securely without keeping the actual password.\n",
        "   - Example: If your password is `\"password123\"`, its SHA-1 hash would look something like:\n",
        "     ```\n",
        "     CBFDAC6008F9CAB4083784CBD1874F76618D2A97\n",
        "     ```\n",
        "\n",
        "2. **Why Use Only the First 5 Characters of the Hash?**\n",
        "   - Instead of sending the entire hash to the API, we only send the **first 5 characters** (called the **prefix**). This method helps protect your password because the full hash is never shared.\n",
        "   - The remaining characters (called the **suffix**) are kept private and checked locally on your computer. This approach is known as **k-anonymity** and helps ensure your data privacy.\n",
        "\n",
        "3. **How Does the Password Check Work?**\n",
        "   - We split the hash into two parts:\n",
        "     - **Prefix**: The first 5 characters, which are sent to the API.\n",
        "     - **Suffix**: The remaining characters, kept locally for checking.\n",
        "   - The API responds with a list of possible hash matches that start with the prefix.\n",
        "   - We then compare the suffix locally to see if the full hash matches any in the list. This way, we can determine if a password is compromised without revealing it.\n"
      ],
      "metadata": {
        "id": "CqrmK9GHCkT5"
      },
      "id": "CqrmK9GHCkT5"
    },
    {
      "cell_type": "code",
      "source": [
        "from pprint import pprint\n",
        "\n",
        "passwords = [{\n",
        "  'last_name':'Williams',\n",
        "  'first_name':'Dartanion',\n",
        "  'password':'test123'\n",
        "},\n",
        "{\n",
        "  'last_name':'Swift',\n",
        "  'first_name':'Deangelo',\n",
        "  'password':'Pl3@$3-Pr0t3ct-My_Cr3d$!!'\n",
        "},\n",
        "{\n",
        "  'last_name':'Swift',\n",
        "  'first_name':'Dartdart',\n",
        "  'password':'Chicago1!'\n",
        "},\n",
        "{\n",
        "  'last_name':'Swift',\n",
        "  'first_name':'Dartie',\n",
        "  'password':'Password1'\n",
        "},\n",
        "{\n",
        "  'last_name':'TheGreat',\n",
        "  'first_name':'Dartanion',\n",
        "  'password':'Th3Qu!cKBr0wnF0x#711!'\n",
        "}]\n",
        "\n",
        "pprint(passwords)"
      ],
      "metadata": {
        "id": "aWEIvtuZ5ZSh"
      },
      "id": "aWEIvtuZ5ZSh",
      "execution_count": null,
      "outputs": []
    },
    {
      "cell_type": "code",
      "source": [
        "import pandas as pd\n",
        "import hashlib\n",
        "import requests\n",
        "\n",
        "accounts_df = pd.DataFrame(passwords)\n",
        "\n",
        "# Define a function to check if a password is compromised\n",
        "def check_password(password):\n",
        "    # Hash the password using SHA-1\n",
        "    sha1_hash = hashlib.sha1(password.encode()).hexdigest().upper()\n",
        "\n",
        "    # Get the first 5 characters of the hash (prefix)\n",
        "    hash_prefix = sha1_hash[:5]\n",
        "    hash_suffix = sha1_hash[5:]\n",
        "\n",
        "    # Query the HIBP API with the hash prefix\n",
        "    url = f\"https://api.pwnedpasswords.com/range/{hash_prefix}\"\n",
        "    response = requests.get(url)\n",
        "\n",
        "    # Check if the request was successful\n",
        "    if response.status_code != 200:\n",
        "        print(f\"Error: Unable to connect to HIBP API (Status Code: {response.status_code})\")\n",
        "        return False\n",
        "\n",
        "    # Parse the response and check for the hash suffix\n",
        "    hashes = (line.split(':') for line in response.text.splitlines())\n",
        "    for suffix, count in hashes:\n",
        "        if suffix == hash_suffix:\n",
        "            return True  # Password is compromised\n",
        "\n",
        "    return False  # Password is not compromised\n",
        "\n",
        "# Create a new column to store the results\n",
        "accounts_df['compromised'] = accounts_df['password'].apply(check_password)\n",
        "\n",
        "# Filter the DataFrame for compromised passwords\n",
        "compromised_users = accounts_df[accounts_df['compromised']]\n",
        "uncompromised_users = accounts_df[~accounts_df['compromised']]\n",
        "\n",
        "\n",
        "# Display the compromised users\n",
        "\n",
        "display('Compromised users', compromised_users)\n",
        "display('Uncompromised users', uncompromised_users)"
      ],
      "metadata": {
        "id": "LkVFah485kQI"
      },
      "id": "LkVFah485kQI",
      "execution_count": null,
      "outputs": []
    },
    {
      "cell_type": "markdown",
      "source": [
        "### Practice activity 5\n",
        "In this activity, you will build a simple Python script to check if a password has been compromised using the **Have I Been Pwned (HIBP) Pwned Passwords API**. This will help you understand how to use API requests and learn about basic cybersecurity practices.\n",
        "\n",
        "### 📝 **Instructions**:\n",
        "\n",
        "1. **Understand the Scenario**:\n",
        "   - You work on the cybersecurity team, and your task is to help users ensure their passwords are safe.\n",
        "   - You’ll create a script that takes a password as input, checks if it has been compromised in a known data breach, and alerts the user if they should change it.\n",
        "\n",
        "2. **Exercise steps**:\n",
        "\n",
        "   - **Step 1: Import Libraries**  \n",
        "     Start by importing the necessary Python libraries.\n",
        "\n",
        "     ```python\n",
        "     import hashlib\n",
        "     import requests\n",
        "     ```\n",
        "\n",
        "   - **Step 2: Get User Input**  \n",
        "     Prompt the user to enter a password to check if it’s been compromised.\n",
        "\n",
        "     ```python\n",
        "     password = input(\"Enter a password to check if it has been compromised: \")\n",
        "     ```\n",
        "\n",
        "   - **Step 3: Hash the Password Using SHA-1**  \n",
        "     Use the SHA-1 hashing algorithm to generate a hash of the password. This helps keep the password secure during the check.\n",
        "\n",
        "     ```python\n",
        "     sha1_hash = hashlib.sha1(password.encode()).hexdigest().upper()\n",
        "     ```\n",
        "\n",
        "   - **Step 4: Prepare the API Request**  \n",
        "     Split the hash into a **prefix** (first 5 characters) and a **suffix** (remaining characters). This allows you to use the k-anonymity model to protect the full password hash.\n",
        "\n",
        "     ```python\n",
        "     hash_prefix = sha1_hash[:5]\n",
        "     hash_suffix = sha1_hash[5:]\n",
        "     ```\n",
        "\n",
        "   - **Step 5: Make the API Request**  \n",
        "     Use the HIBP API to check if the hash prefix appears in the breached passwords database.\n",
        "\n",
        "     ```python\n",
        "     url = f\"https://api.pwnedpasswords.com/range/{hash_prefix}\"\n",
        "     response = requests.get(url)\n",
        "     ```\n",
        "\n",
        "   - **Step 6: Check the API Response**  \n",
        "     Ensure the request was successful. If not, print an error message.\n",
        "\n",
        "     ```python\n",
        "     if response.status_code != 200:\n",
        "         print(f\"Error: Unable to connect to HIBP API (Status Code: {response.status_code})\")\n",
        "     ```\n",
        "\n",
        "   - **Step 7: Parse the Response**  \n",
        "     The API returns a list of hash suffixes and the number of times each was found. Check if the hash suffix of your password is in the returned list.\n",
        "\n",
        "     ```python\n",
        "     hashes = (line.split(':') for line in response.text.splitlines())\n",
        "     found = any(suffix == hash_suffix for suffix, count in hashes)\n",
        "     ```\n",
        "\n",
        "   - **Step 8: Display the Result**  \n",
        "     If the hash suffix is found, alert the user that their password has been compromised. Otherwise, inform them that it’s safe.\n",
        "\n",
        "     ```python\n",
        "     if found:\n",
        "         print(\"⚠️ This password has been compromised! Choose a different one.\")\n",
        "     else:\n",
        "         print(\"✅ This password is safe and not found in the compromised list.\")\n",
        "     ```\n",
        "\n",
        "4. **Testing Your Script**:\n",
        "   - Try running the script with sample passwords like `\"password123\"`, `\"qwerty2023\"`, or `\"securepass1\"`.\n",
        "   - Observe the output and determine if the password was found in the breached dataset."
      ],
      "metadata": {
        "id": "VJXE4Cr857Ne"
      },
      "id": "VJXE4Cr857Ne"
    },
    {
      "cell_type": "code",
      "source": [
        "import hashlib\n",
        "import requests\n",
        "\n",
        "# Prompt the user for a password to check\n",
        "password = # YOUR CODE HERE\n",
        "\n",
        "# Hash the password using SHA-1\n",
        "sha1_hash = hashlib.sha1(password.encode()).hexdigest().upper()\n",
        "\n",
        "# Get the first 5 characters of the hash (prefix)\n",
        "hash_prefix = sha1_hash[:5]\n",
        "hash_suffix = sha1_hash[5:]\n",
        "\n",
        "# Query the HIBP API with the hash prefix\n",
        "url = f\"https://api.pwnedpasswords.com/range/{hash_prefix}\"\n",
        "response = requests.get(url)\n",
        "\n",
        "# Check if the request was successful\n",
        "if response.status_code == 200:\n",
        "    # Parse the response text (hash suffixes and counts)\n",
        "    hashes = # YOUR CODE HERE\n",
        "\n",
        "    # Check if the hash suffix matches any returned from the API\n",
        "    found = # YOUR CODE HERE\n",
        "\n",
        "    # Conditional statement to check if the password was found or not\n",
        "else:\n",
        "    print(f\"Error: Unable to connect to HIBP API (Status Code: {response.status_code})\")"
      ],
      "metadata": {
        "id": "Nrm5MoQE6BOx"
      },
      "id": "Nrm5MoQE6BOx",
      "execution_count": null,
      "outputs": []
    },
    {
      "cell_type": "markdown",
      "source": [
        "# 📢 Google Safe Browsing API\n",
        "\n",
        "The Google Safe Browsing API can be used to check URLs for potential threats like phishing, malware, and unwanted software. This API helps enhance cybersecurity by identifying unsafe websites and protecting users from online threats.\n",
        "\n",
        "### 🔍 What Is the Google Safe Browsing API?\n",
        "The Google Safe Browsing API is a service provided by Google that checks URLs against a constantly updated list of unsafe websites. It’s widely used by web browsers, security software, and apps to warn users before they visit a harmful site.\n",
        "\n",
        "### 🗝️ Getting Started with the API Key:\n",
        "To use the Google Safe Browsing API, you need an API key. Follow these steps to get your key:\n",
        "1. Go to the [Google Cloud Console](https://console.cloud.google.com/).\n",
        "2. Create a new project (or use an existing one).\n",
        "3. Enable the **Google Safe Browsing API** from the API Library.\n",
        "4. Go to **APIs & Services > Credentials** and click on **Create API Key**.\n",
        "5. Copy the generated API key and set it up as a `SAFE_BROWSING_API_KEY` secret."
      ],
      "metadata": {
        "id": "b7aLFbxaH-Xh"
      },
      "id": "b7aLFbxaH-Xh"
    },
    {
      "cell_type": "code",
      "source": [
        "from google.colab import userdata\n",
        "SAFE_BROWSING_API_KEY = userdata.get('SAFE_BROWSING_API_KEY')"
      ],
      "metadata": {
        "id": "tFP_Qk1SIByA"
      },
      "id": "tFP_Qk1SIByA",
      "execution_count": null,
      "outputs": []
    },
    {
      "cell_type": "code",
      "source": [
        "import requests\n",
        "import json\n",
        "\n",
        "# Define the API endpoint\n",
        "api_url = \"https://safebrowsing.googleapis.com/v4/threatMatches:find\"\n",
        "\n",
        "# Sample URL list\n",
        "urls_to_check = [\n",
        "    \"http://malware.wicar.org/data/ms14_064_ole_not_xp.html\",\n",
        "    \"https://www.google.com\",\n",
        "    \"http://safesite.com\",\n",
        "    \"http://phishingsite.com/login\",\n",
        "    \"http://testsafebrowsing.appspot.com/s/malware.html\",\n",
        "    \"http://testsafebrowsing.appspot.com/s/phishing.html\"\n",
        "]\n",
        "\n",
        "# Function to check a URL using Google Safe Browsing API\n",
        "def check_url(api_key, url_to_check):\n",
        "    # Prepare the request payload\n",
        "    payload = {\n",
        "        \"client\": {\n",
        "            \"clientId\": \"test-client\",\n",
        "            \"clientVersion\": \"1.0\"\n",
        "        },\n",
        "        \"threatInfo\": {\n",
        "            \"threatTypes\": [\"MALWARE\", \"SOCIAL_ENGINEERING\", \"UNWANTED_SOFTWARE\"],\n",
        "            \"platformTypes\": [\"ANY_PLATFORM\"],\n",
        "            \"threatEntryTypes\": [\"URL\"],\n",
        "            \"threatEntries\": [{\"url\": url_to_check}]\n",
        "        }\n",
        "    }\n",
        "\n",
        "    # Full request URL with API key\n",
        "    full_url = f\"{api_url}?key={api_key}\"\n",
        "\n",
        "    # Make the POST request\n",
        "    try:\n",
        "        response = requests.post(full_url, json=payload)\n",
        "\n",
        "        # Debugging: Print response status code and content\n",
        "        print(f\"Status Code: {response.status_code}\")\n",
        "        print(f\"Response Content: {response.text}\")\n",
        "\n",
        "        # Check if the request was successful\n",
        "        if response.status_code == 200:\n",
        "            # Parse the JSON response\n",
        "            result = response.json()\n",
        "            if \"matches\" in result:\n",
        "                print(f\"⚠️ Warning: The URL '{url_to_check}' is flagged as potentially unsafe.\")\n",
        "            else:\n",
        "                print(f\"✅ The URL '{url_to_check}' is safe.\")\n",
        "        else:\n",
        "            print(f\"Error: Unable to connect to the API (Status Code: {response.status_code})\")\n",
        "    except Exception as e:\n",
        "        print(f\"An error occurred: {str(e)}\")\n",
        "\n",
        "# Check each URL in the list\n",
        "for url in urls_to_check:\n",
        "    check_url(SAFE_BROWSING_API_KEY, url)"
      ],
      "metadata": {
        "id": "dIFyJnLZIAQW"
      },
      "id": "dIFyJnLZIAQW",
      "execution_count": null,
      "outputs": []
    }
  ],
  "metadata": {
    "colab": {
      "provenance": [],
      "include_colab_link": true
    },
    "language_info": {
      "name": "python"
    },
    "kernelspec": {
      "name": "python3",
      "display_name": "Python 3"
    }
  },
  "nbformat": 4,
  "nbformat_minor": 5
}